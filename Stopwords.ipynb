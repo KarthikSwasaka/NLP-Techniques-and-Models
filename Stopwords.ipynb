{
 "cells": [
  {
   "cell_type": "code",
   "execution_count": 2,
   "metadata": {},
   "outputs": [],
   "source": [
    "import spacy\n",
    "nlp = spacy.load('en_core_web_sm')"
   ]
  },
  {
   "cell_type": "code",
   "execution_count": 4,
   "metadata": {},
   "outputs": [
    {
     "name": "stdout",
     "output_type": "stream",
     "text": [
      "{'above', 'them', 'perhaps', 'rather', 'into', 'nowhere', 'before', 'please', 'would', 'must', 'everywhere', 'beforehand', 'themselves', 'his', 'therefore', 'whole', 'ever', 'so', 'amongst', 'via', 'between', 'neither', 'very', 'what', 'through', 'towards', 'your', 'could', 'therein', 'others', 'thereupon', \"'s\", 'almost', 'my', 'often', 'top', '‘m', 'five', 'always', 'thereafter', 'behind', 'since', 'yourselves', 'anything', 'amount', 'they', 'who', 'get', 're', 'thence', 'bottom', 'n‘t', 'every', 'that', 'empty', 'take', 'yet', 'just', 'many', 'us', 'whose', 'either', 'anyhow', 'becoming', 'there', 'cannot', 'itself', 'up', 'its', 'along', 'both', 'already', 'sometimes', 'seems', 'alone', 'everyone', 'had', 'beside', 'really', 'should', 'ca', 'whenever', 'someone', 'twelve', 'full', 'her', 'onto', 'eleven', 'sixty', \"'m\", 'may', 'no', 'hereby', 'hence', 'too', 'those', 'three', 'forty', 'beyond', 'even', 'much', 'hereupon', 'why', 'nobody', '‘d', 'he', '‘re', 'enough', 'say', 'has', 'well', 'less', 'it', 'you', 'whether', 'do', 'per', 'none', 'am', 'third', 'however', 'done', 'off', 'next', 'under', 'whence', 'sometime', 'among', 'about', 'due', 'except', 'because', 'wherever', '’s', 'by', 'front', 'for', 'himself', 'herself', 'but', 'nor', 'out', 'yours', 'somewhere', \"n't\", 'former', 'seeming', 'from', 'this', 'down', 'an', 'whoever', 'whatever', 'more', '’d', 'hereafter', 'once', 'keep', 'becomes', 'wherein', 'thru', 'besides', 'herein', 'i', 'we', '’ll', 'see', 'were', 'when', 'regarding', 'these', 'again', 'although', 'nevertheless', 'moreover', 'a', 'afterwards', 'six', 'side', 'otherwise', 'somehow', 'whom', \"'re\", 'throughout', 'with', 'formerly', 'until', \"'d\", 'fifty', 'hundred', 'become', 'move', 'anywhere', 'seem', 'been', 'call', 'of', 'namely', 'thus', 'whither', 'still', 'became', 'each', 'which', 'else', '’re', 'and', '‘ll', 'put', 'used', 'myself', 'yourself', 'most', 'ours', 'some', 'whereupon', 'did', 'now', 'various', 'at', 'go', 'latterly', 'part', 'she', 'whereby', 'if', '‘s', 'name', 'show', 'below', '‘ve', 'me', 'whereafter', 'nine', 'though', '’ve', 'being', 'another', 'few', 'thereby', 'mostly', 'together', 'where', 'ten', 'eight', 'quite', 'was', 'elsewhere', 'without', 'nothing', 'something', 'than', 'give', 'made', 'will', 'one', 'can', \"'ll\", 'same', 'how', 'against', 'toward', 'only', 'here', 'across', 'two', 'within', 'upon', 'serious', 'whereas', 'around', 'as', 'him', 'indeed', '’m', 'back', 'their', 'ourselves', 'over', 'might', 'are', 'to', 'anyway', 'anyone', 'then', 'using', 'n’t', 'on', 'the', 'in', 'fifteen', 'never', 'twenty', 'during', 'several', 'our', 'further', 'any', 'not', 'least', 'while', 'be', 'doing', 'is', 'after', 'first', 'does', 'also', 'make', 'unless', \"'ve\", 'meanwhile', 'mine', 'all', 'have', 'latter', 'or', 'hers', 'noone', 'own', 'last', 'seemed', 'other', 'everything', 'such', 'four'}\n"
     ]
    }
   ],
   "source": [
    "print(nlp.Defaults.stop_words)"
   ]
  },
  {
   "cell_type": "code",
   "execution_count": 5,
   "metadata": {},
   "outputs": [
    {
     "data": {
      "text/plain": [
       "326"
      ]
     },
     "execution_count": 5,
     "metadata": {},
     "output_type": "execute_result"
    }
   ],
   "source": [
    "len(nlp.Defaults.stop_words)"
   ]
  },
  {
   "cell_type": "code",
   "execution_count": 6,
   "metadata": {},
   "outputs": [
    {
     "data": {
      "text/plain": [
       "<spacy.lexeme.Lexeme at 0x263171050e8>"
      ]
     },
     "execution_count": 6,
     "metadata": {},
     "output_type": "execute_result"
    }
   ],
   "source": [
    "nlp.vocab['is']"
   ]
  },
  {
   "cell_type": "code",
   "execution_count": 7,
   "metadata": {},
   "outputs": [
    {
     "data": {
      "text/plain": [
       "True"
      ]
     },
     "execution_count": 7,
     "metadata": {},
     "output_type": "execute_result"
    }
   ],
   "source": [
    "nlp.vocab['is'].is_stop"
   ]
  },
  {
   "cell_type": "code",
   "execution_count": 8,
   "metadata": {},
   "outputs": [
    {
     "data": {
      "text/plain": [
       "False"
      ]
     },
     "execution_count": 8,
     "metadata": {},
     "output_type": "execute_result"
    }
   ],
   "source": [
    "nlp.vocab['Karthik'].is_stop"
   ]
  },
  {
   "cell_type": "code",
   "execution_count": 10,
   "metadata": {},
   "outputs": [],
   "source": [
    "nlp.Defaults.stop_words.add('btw')"
   ]
  },
  {
   "cell_type": "code",
   "execution_count": 11,
   "metadata": {},
   "outputs": [
    {
     "data": {
      "text/plain": [
       "327"
      ]
     },
     "execution_count": 11,
     "metadata": {},
     "output_type": "execute_result"
    }
   ],
   "source": [
    "len(nlp.Defaults.stop_words)"
   ]
  },
  {
   "cell_type": "code",
   "execution_count": 12,
   "metadata": {},
   "outputs": [
    {
     "data": {
      "text/plain": [
       "True"
      ]
     },
     "execution_count": 12,
     "metadata": {},
     "output_type": "execute_result"
    }
   ],
   "source": [
    "nlp.vocab['btw'].is_stop"
   ]
  },
  {
   "cell_type": "code",
   "execution_count": 13,
   "metadata": {},
   "outputs": [
    {
     "data": {
      "text/plain": [
       "327"
      ]
     },
     "execution_count": 13,
     "metadata": {},
     "output_type": "execute_result"
    }
   ],
   "source": [
    "len(nlp.Defaults.stop_words)"
   ]
  },
  {
   "cell_type": "code",
   "execution_count": 16,
   "metadata": {},
   "outputs": [],
   "source": [
    "nlp.Defaults.stop_words.remove('btw')"
   ]
  },
  {
   "cell_type": "code",
   "execution_count": 17,
   "metadata": {},
   "outputs": [
    {
     "data": {
      "text/plain": [
       "326"
      ]
     },
     "execution_count": 17,
     "metadata": {},
     "output_type": "execute_result"
    }
   ],
   "source": [
    "len(nlp.Defaults.stop_words)"
   ]
  },
  {
   "cell_type": "code",
   "execution_count": null,
   "metadata": {},
   "outputs": [],
   "source": []
  }
 ],
 "metadata": {
  "kernelspec": {
   "display_name": "Python 3",
   "language": "python",
   "name": "python3"
  },
  "language_info": {
   "codemirror_mode": {
    "name": "ipython",
    "version": 3
   },
   "file_extension": ".py",
   "mimetype": "text/x-python",
   "name": "python",
   "nbconvert_exporter": "python",
   "pygments_lexer": "ipython3",
   "version": "3.7.4"
  }
 },
 "nbformat": 4,
 "nbformat_minor": 2
}

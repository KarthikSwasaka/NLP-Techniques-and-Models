{
 "cells": [
  {
   "cell_type": "code",
   "execution_count": 1,
   "metadata": {},
   "outputs": [],
   "source": [
    "import spacy\n",
    "nlp = spacy.load('en_core_web_sm')"
   ]
  },
  {
   "cell_type": "code",
   "execution_count": 2,
   "metadata": {},
   "outputs": [],
   "source": [
    "from spacy.matcher import PhraseMatcher"
   ]
  },
  {
   "cell_type": "code",
   "execution_count": 3,
   "metadata": {},
   "outputs": [],
   "source": [
    "matcher = PhraseMatcher(nlp.vocab)"
   ]
  },
  {
   "cell_type": "code",
   "execution_count": 4,
   "metadata": {},
   "outputs": [],
   "source": [
    "with open('C:\\\\Users\\\\swasa\\\\Desktop\\\\TextFiles\\\\reaganomics.txt') as f:\n",
    "    doc1 = nlp(f.read())"
   ]
  },
  {
   "cell_type": "code",
   "execution_count": 5,
   "metadata": {},
   "outputs": [],
   "source": [
    "# First, create a list of match phrases:\n",
    "phrase_list = ['voodoo economics', 'supply-side economics', 'tickle-down economics', 'free-market economics']\n",
    "\n",
    "# Next, convert each phrase to a Doc object:\n",
    "phrase_patterns = [nlp(text) for text in phrase_list]\n",
    "\n",
    "matcher.add('vodooEconomics', None,*phrase_patterns)\n",
    "\n",
    "# Build a list of matches:\n",
    "matches = matcher(doc1)"
   ]
  },
  {
   "cell_type": "code",
   "execution_count": 6,
   "metadata": {},
   "outputs": [
    {
     "name": "stdout",
     "output_type": "stream",
     "text": [
      "[(3347933692913414816, 41, 45), (3347933692913414816, 54, 56), (3347933692913414816, 61, 65), (3347933692913414816, 673, 677)]\n"
     ]
    }
   ],
   "source": [
    "print(matches)"
   ]
  },
  {
   "cell_type": "code",
   "execution_count": 7,
   "metadata": {},
   "outputs": [
    {
     "name": "stdout",
     "output_type": "stream",
     "text": [
      "3347933692913414816 vodooEconomics 41 45 supply-side economics\n",
      "3347933692913414816 vodooEconomics 54 56 voodoo economics\n",
      "3347933692913414816 vodooEconomics 61 65 free-market economics\n",
      "3347933692913414816 vodooEconomics 673 677 supply-side economics\n"
     ]
    }
   ],
   "source": [
    "for match_id, start, end in matches:\n",
    "    string_id = nlp.vocab.strings[match_id]\n",
    "    span = doc1[start:end]\n",
    "    print(match_id, string_id, start, end, span)"
   ]
  },
  {
   "cell_type": "code",
   "execution_count": 8,
   "metadata": {},
   "outputs": [
    {
     "name": "stdout",
     "output_type": "stream",
     "text": [
      "3347933692913414816 vodooEconomics 41 45 policies are commonly associated with supply-side economics, referred to as trickle\n",
      "3347933692913414816 vodooEconomics 54 56 trickle-down economics or voodoo economics by political opponents, and\n",
      "3347933692913414816 vodooEconomics 61 65 by political opponents, and free-market economics by political advocates.\n",
      "\n",
      "\n",
      "3347933692913414816 vodooEconomics 673 677 attracted a following from the supply-side economics movement, which formed in\n"
     ]
    }
   ],
   "source": [
    "for match_id, start, end in matches:\n",
    "    string_id = nlp.vocab.strings[match_id]\n",
    "    span = doc1[start-5:end+5]\n",
    "    print(match_id, string_id, start, end, span)"
   ]
  },
  {
   "cell_type": "code",
   "execution_count": null,
   "metadata": {},
   "outputs": [],
   "source": []
  }
 ],
 "metadata": {
  "kernelspec": {
   "display_name": "Python 3",
   "language": "python",
   "name": "python3"
  },
  "language_info": {
   "codemirror_mode": {
    "name": "ipython",
    "version": 3
   },
   "file_extension": ".py",
   "mimetype": "text/x-python",
   "name": "python",
   "nbconvert_exporter": "python",
   "pygments_lexer": "ipython3",
   "version": "3.7.4"
  }
 },
 "nbformat": 4,
 "nbformat_minor": 2
}
